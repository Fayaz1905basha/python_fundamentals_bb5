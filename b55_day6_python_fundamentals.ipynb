{
 "cells": [
  {
   "cell_type": "code",
   "execution_count": null,
   "id": "53f6c196",
   "metadata": {},
   "outputs": [],
   "source": [
    "LOOPING STATEMENTS:"
   ]
  },
  {
   "cell_type": "code",
   "execution_count": 1,
   "id": "adf18c3b",
   "metadata": {},
   "outputs": [],
   "source": [
    "name=['d','h','e','k','s','h','i']"
   ]
  },
  {
   "cell_type": "code",
   "execution_count": 2,
   "id": "7826e93c",
   "metadata": {},
   "outputs": [
    {
     "name": "stdout",
     "output_type": "stream",
     "text": [
      "['d', 'h', 'e', 'k', 's', 'h', 'i']\n"
     ]
    }
   ],
   "source": [
    "print(name)"
   ]
  },
  {
   "cell_type": "code",
   "execution_count": 3,
   "id": "93885312",
   "metadata": {},
   "outputs": [
    {
     "name": "stdout",
     "output_type": "stream",
     "text": [
      "keep it up,D\n"
     ]
    }
   ],
   "source": [
    "print(f\"keep it up,{name[0].title()}\")"
   ]
  },
  {
   "cell_type": "code",
   "execution_count": null,
   "id": "7bddf8b4",
   "metadata": {},
   "outputs": [],
   "source": [
    "#for loop syntax can be written as"
   ]
  },
  {
   "cell_type": "code",
   "execution_count": null,
   "id": "6e8a5788",
   "metadata": {},
   "outputs": [],
   "source": [
    "for tempvar in mainvar:\n",
    "    print(tempvar)"
   ]
  },
  {
   "cell_type": "code",
   "execution_count": 8,
   "id": "5769ec65",
   "metadata": {},
   "outputs": [
    {
     "name": "stdout",
     "output_type": "stream",
     "text": [
      "d\n",
      "h\n",
      "e\n",
      "k\n",
      "s\n",
      "h\n",
      "i\n"
     ]
    }
   ],
   "source": [
    "    for x in name:\n",
    "        print(x)"
   ]
  },
  {
   "cell_type": "code",
   "execution_count": 9,
   "id": "0a643997",
   "metadata": {},
   "outputs": [
    {
     "name": "stdout",
     "output_type": "stream",
     "text": [
      "good,D\n",
      "good,H\n",
      "good,E\n",
      "good,K\n",
      "good,S\n",
      "good,H\n",
      "good,I\n"
     ]
    }
   ],
   "source": [
    "for x in name:\n",
    "    print(f\"good,{x.upper()}\")"
   ]
  },
  {
   "cell_type": "code",
   "execution_count": 12,
   "id": "a72a79e4",
   "metadata": {},
   "outputs": [
    {
     "name": "stdout",
     "output_type": "stream",
     "text": [
      "good,D\n",
      "love you,d\n",
      "good,H\n",
      "love you,h\n",
      "good,E\n",
      "love you,e\n",
      "good,K\n",
      "love you,k\n",
      "good,S\n",
      "love you,s\n",
      "good,H\n",
      "love you,h\n",
      "good,I\n",
      "love you,i\n"
     ]
    }
   ],
   "source": [
    "for x in name:\n",
    "    print(f\"good,{x.upper()}\")\n",
    "    print(f\"love you,{x.lower()}\")"
   ]
  },
  {
   "cell_type": "code",
   "execution_count": null,
   "id": "55f34cf9",
   "metadata": {},
   "outputs": [],
   "source": []
  },
  {
   "cell_type": "code",
   "execution_count": null,
   "id": "85ac2b16",
   "metadata": {},
   "outputs": [],
   "source": []
  },
  {
   "cell_type": "code",
   "execution_count": null,
   "id": "97085a6c",
   "metadata": {},
   "outputs": [],
   "source": []
  },
  {
   "cell_type": "code",
   "execution_count": null,
   "id": "87162c78",
   "metadata": {},
   "outputs": [],
   "source": []
  },
  {
   "cell_type": "code",
   "execution_count": null,
   "id": "17470d53",
   "metadata": {},
   "outputs": [],
   "source": []
  },
  {
   "cell_type": "code",
   "execution_count": null,
   "id": "70863335",
   "metadata": {},
   "outputs": [],
   "source": []
  },
  {
   "cell_type": "code",
   "execution_count": null,
   "id": "307d690d",
   "metadata": {},
   "outputs": [],
   "source": []
  }
 ],
 "metadata": {
  "kernelspec": {
   "display_name": "Python 3 (ipykernel)",
   "language": "python",
   "name": "python3"
  },
  "language_info": {
   "codemirror_mode": {
    "name": "ipython",
    "version": 3
   },
   "file_extension": ".py",
   "mimetype": "text/x-python",
   "name": "python",
   "nbconvert_exporter": "python",
   "pygments_lexer": "ipython3",
   "version": "3.9.7"
  }
 },
 "nbformat": 4,
 "nbformat_minor": 5
}
