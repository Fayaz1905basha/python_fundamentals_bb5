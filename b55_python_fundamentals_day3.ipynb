{
 "cells": [
  {
   "cell_type": "code",
   "execution_count": 40,
   "id": "f066cef0",
   "metadata": {},
   "outputs": [
    {
     "name": "stdout",
     "output_type": "stream",
     "text": [
      "fayaz\n"
     ]
    }
   ],
   "source": [
    "name='fayaz'\n",
    "print(name)"
   ]
  },
  {
   "cell_type": "code",
   "execution_count": 41,
   "id": "ccd9ddc0",
   "metadata": {},
   "outputs": [
    {
     "name": "stdout",
     "output_type": "stream",
     "text": [
      "Fayaz\n"
     ]
    }
   ],
   "source": [
    "print(name.title())#we can use title() for making headings so first letter of the each word is capital"
   ]
  },
  {
   "cell_type": "code",
   "execution_count": 42,
   "id": "e799c677",
   "metadata": {},
   "outputs": [
    {
     "name": "stdout",
     "output_type": "stream",
     "text": [
      "FAYAZ\n"
     ]
    }
   ],
   "source": [
    "print(name.upper())#we can use upper() to make all letters capital"
   ]
  },
  {
   "cell_type": "code",
   "execution_count": 43,
   "id": "60f9ea97",
   "metadata": {},
   "outputs": [
    {
     "name": "stdout",
     "output_type": "stream",
     "text": [
      "fayaz\n"
     ]
    }
   ],
   "source": [
    "print(name.lower())#we can use lower() to make all letters small"
   ]
  },
  {
   "cell_type": "code",
   "execution_count": 44,
   "id": "d28749d1",
   "metadata": {},
   "outputs": [
    {
     "ename": "SyntaxError",
     "evalue": "invalid syntax (Temp/ipykernel_7356/3393939169.py, line 1)",
     "output_type": "error",
     "traceback": [
      "\u001b[1;36m  File \u001b[1;32m\"C:\\Users\\fayaz\\AppData\\Local\\Temp/ipykernel_7356/3393939169.py\"\u001b[1;36m, line \u001b[1;32m1\u001b[0m\n\u001b[1;33m    INTRODUCTION TO F STRINGS\u001b[0m\n\u001b[1;37m                 ^\u001b[0m\n\u001b[1;31mSyntaxError\u001b[0m\u001b[1;31m:\u001b[0m invalid syntax\n"
     ]
    }
   ],
   "source": [
    "INTRODUCTION TO F STRINGS"
   ]
  },
  {
   "cell_type": "code",
   "execution_count": 45,
   "id": "ee2e90e1",
   "metadata": {},
   "outputs": [],
   "source": [
    " #syntax of f string = f\"custom words{place holder 1}{place holder 2}.......n"
   ]
  },
  {
   "cell_type": "code",
   "execution_count": 46,
   "id": "3c1e6f5f",
   "metadata": {},
   "outputs": [
    {
     "name": "stdout",
     "output_type": "stream",
     "text": [
      "fayazbasha\n"
     ]
    }
   ],
   "source": [
    "first_name='fayaz'\n",
    "last_name='basha'\n",
    "full_name=f\"{first_name}{last_name}\"\n",
    "print(full_name)"
   ]
  },
  {
   "cell_type": "code",
   "execution_count": 47,
   "id": "69f59eb3",
   "metadata": {},
   "outputs": [
    {
     "name": "stdout",
     "output_type": "stream",
     "text": [
      "Fayazbasha\n"
     ]
    }
   ],
   "source": [
    "print(full_name.title())"
   ]
  },
  {
   "cell_type": "code",
   "execution_count": 48,
   "id": "d3f155dc",
   "metadata": {},
   "outputs": [],
   "source": [
    "#custom words are nothing but if we need to give any message we can type here"
   ]
  },
  {
   "cell_type": "code",
   "execution_count": 49,
   "id": "75604757",
   "metadata": {},
   "outputs": [
    {
     "name": "stdout",
     "output_type": "stream",
     "text": [
      "all the best,Fayazbasha\n"
     ]
    }
   ],
   "source": [
    "message=f\"all the best,{full_name.title()}\"\n",
    "print(message)"
   ]
  },
  {
   "cell_type": "code",
   "execution_count": 50,
   "id": "7c300b98",
   "metadata": {},
   "outputs": [
    {
     "ename": "SyntaxError",
     "evalue": "invalid syntax (Temp/ipykernel_7356/3611590108.py, line 1)",
     "output_type": "error",
     "traceback": [
      "\u001b[1;36m  File \u001b[1;32m\"C:\\Users\\fayaz\\AppData\\Local\\Temp/ipykernel_7356/3611590108.py\"\u001b[1;36m, line \u001b[1;32m1\u001b[0m\n\u001b[1;33m    WHITE SPACES\u001b[0m\n\u001b[1;37m          ^\u001b[0m\n\u001b[1;31mSyntaxError\u001b[0m\u001b[1;31m:\u001b[0m invalid syntax\n"
     ]
    }
   ],
   "source": [
    "WHITE SPACES"
   ]
  },
  {
   "cell_type": "code",
   "execution_count": 51,
   "id": "f1fad7c4",
   "metadata": {},
   "outputs": [
    {
     "name": "stdout",
     "output_type": "stream",
     "text": [
      "chinnusaiammuluharibabuleelavathamma\n"
     ]
    }
   ],
   "source": [
    "print('chinnusaiammuluharibabuleelavathamma')"
   ]
  },
  {
   "cell_type": "code",
   "execution_count": 52,
   "id": "1055d4a9",
   "metadata": {},
   "outputs": [
    {
     "name": "stdout",
     "output_type": "stream",
     "text": [
      "chinnu\n",
      "sai\n",
      "ammulu\n",
      "haribabu\n",
      "leelavathamma\n"
     ]
    }
   ],
   "source": [
    "#adding white spaces to strings\n",
    "print('chinnu\\nsai\\nammulu\\nharibabu\\nleelavathamma')#\\n------>newline delimiter"
   ]
  },
  {
   "cell_type": "code",
   "execution_count": 53,
   "id": "732b1234",
   "metadata": {},
   "outputs": [
    {
     "name": "stdout",
     "output_type": "stream",
     "text": [
      "\n",
      "\tchinnu\n",
      "\tsai\n",
      "\tammulu\n",
      "\tharibabu\n",
      "\tleelavathamma\n"
     ]
    }
   ],
   "source": [
    "print('\\n\\tchinnu\\n\\tsai\\n\\tammulu\\n\\tharibabu\\n\\tleelavathamma')#\\t---->tab delimiter"
   ]
  },
  {
   "cell_type": "code",
   "execution_count": 54,
   "id": "f479bcef",
   "metadata": {},
   "outputs": [],
   "source": [
    "#removing white spaces from strings:"
   ]
  },
  {
   "cell_type": "code",
   "execution_count": 55,
   "id": "f2774f75",
   "metadata": {},
   "outputs": [
    {
     "name": "stdout",
     "output_type": "stream",
     "text": [
      "   chinnu    \n"
     ]
    }
   ],
   "source": [
    "name=\"   chinnu    \"\n",
    "print(name)"
   ]
  },
  {
   "cell_type": "code",
   "execution_count": 56,
   "id": "2b925707",
   "metadata": {},
   "outputs": [
    {
     "name": "stdout",
     "output_type": "stream",
     "text": [
      "     chinnu\n"
     ]
    }
   ],
   "source": [
    "name1='     chinnu'#ledt side\n",
    "print(name1)"
   ]
  },
  {
   "cell_type": "code",
   "execution_count": 57,
   "id": "d8fa2585",
   "metadata": {},
   "outputs": [
    {
     "name": "stdout",
     "output_type": "stream",
     "text": [
      "chinnu    \n"
     ]
    }
   ],
   "source": [
    "name2='chinnu    '#right side\n",
    "print(name2)"
   ]
  },
  {
   "cell_type": "code",
   "execution_count": 58,
   "id": "a2f41f16",
   "metadata": {},
   "outputs": [],
   "source": [
    "#lstrip()-->used to remove left spaces\n",
    "#rstrip()--->used to remove right spaces\n",
    "#strip()--->used to removes spaces on both sides"
   ]
  },
  {
   "cell_type": "code",
   "execution_count": 59,
   "id": "347e5c47",
   "metadata": {},
   "outputs": [
    {
     "data": {
      "text/plain": [
       "'chinnu'"
      ]
     },
     "execution_count": 59,
     "metadata": {},
     "output_type": "execute_result"
    }
   ],
   "source": [
    "name.strip()"
   ]
  },
  {
   "cell_type": "code",
   "execution_count": 60,
   "id": "97402675",
   "metadata": {},
   "outputs": [
    {
     "data": {
      "text/plain": [
       "'chinnu'"
      ]
     },
     "execution_count": 60,
     "metadata": {},
     "output_type": "execute_result"
    }
   ],
   "source": [
    "name1.lstrip()"
   ]
  },
  {
   "cell_type": "code",
   "execution_count": 61,
   "id": "a0cff3ab",
   "metadata": {},
   "outputs": [
    {
     "data": {
      "text/plain": [
       "'chinnu'"
      ]
     },
     "execution_count": 61,
     "metadata": {},
     "output_type": "execute_result"
    }
   ],
   "source": [
    "name2.rstrip()"
   ]
  },
  {
   "cell_type": "code",
   "execution_count": null,
   "id": "14108ec4",
   "metadata": {},
   "outputs": [],
   "source": []
  },
  {
   "cell_type": "code",
   "execution_count": null,
   "id": "f96ce35e",
   "metadata": {},
   "outputs": [],
   "source": []
  }
 ],
 "metadata": {
  "kernelspec": {
   "display_name": "Python 3 (ipykernel)",
   "language": "python",
   "name": "python3"
  },
  "language_info": {
   "codemirror_mode": {
    "name": "ipython",
    "version": 3
   },
   "file_extension": ".py",
   "mimetype": "text/x-python",
   "name": "python",
   "nbconvert_exporter": "python",
   "pygments_lexer": "ipython3",
   "version": "3.9.7"
  }
 },
 "nbformat": 4,
 "nbformat_minor": 5
}
