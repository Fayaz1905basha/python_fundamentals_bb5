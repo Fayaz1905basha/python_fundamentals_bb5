{
 "cells": [
  {
   "cell_type": "code",
   "execution_count": null,
   "id": "27c11e96",
   "metadata": {},
   "outputs": [],
   "source": [
    "ORGANISING THE LIST DATA TYPE"
   ]
  },
  {
   "cell_type": "code",
   "execution_count": 7,
   "id": "7ccf522f",
   "metadata": {},
   "outputs": [],
   "source": [
    "letters=['a','n','p','h','e','o','i','d']"
   ]
  },
  {
   "cell_type": "code",
   "execution_count": 8,
   "id": "e9d17c21",
   "metadata": {},
   "outputs": [
    {
     "name": "stdout",
     "output_type": "stream",
     "text": [
      "['a', 'n', 'p', 'h', 'e', 'o', 'i', 'd']\n"
     ]
    }
   ],
   "source": [
    "print(letters)"
   ]
  },
  {
   "cell_type": "code",
   "execution_count": null,
   "id": "37a981bd",
   "metadata": {},
   "outputs": [],
   "source": [
    "#we need the above list to be in alphabetical order\n",
    "#there are two types 1)temporary apporoach 2)permanent approach\n",
    "#in temporary approach we can again get the orginal sequence again after the elemnts in the list are sorted\n",
    "#whereas in permanent approach once the list is sorted we cannot get the orginal sequence "
   ]
  },
  {
   "cell_type": "code",
   "execution_count": 9,
   "id": "bdd0808a",
   "metadata": {},
   "outputs": [
    {
     "name": "stdout",
     "output_type": "stream",
     "text": [
      "['a', 'd', 'e', 'h', 'i', 'n', 'o', 'p']\n"
     ]
    }
   ],
   "source": [
    "print(sorted(letters))#letters are printed in alphabetic order again orginal squence can be rerived"
   ]
  },
  {
   "cell_type": "code",
   "execution_count": 10,
   "id": "f778b71d",
   "metadata": {},
   "outputs": [
    {
     "name": "stdout",
     "output_type": "stream",
     "text": [
      "['a', 'n', 'p', 'h', 'e', 'o', 'i', 'd']\n"
     ]
    }
   ],
   "source": [
    "print(letters)"
   ]
  },
  {
   "cell_type": "code",
   "execution_count": 27,
   "id": "3f4eeb76",
   "metadata": {},
   "outputs": [
    {
     "name": "stdout",
     "output_type": "stream",
     "text": [
      "['a', 'd', 'e', 'h', 'i', 'n', 'o', 'p']\n"
     ]
    }
   ],
   "source": [
    "letters.sort()\n",
    "print(letters)"
   ]
  },
  {
   "cell_type": "code",
   "execution_count": 26,
   "id": "1b7ff318",
   "metadata": {},
   "outputs": [],
   "source": [
    "#if we want to print etire list in reverse order "
   ]
  },
  {
   "cell_type": "code",
   "execution_count": 21,
   "id": "df8bd56f",
   "metadata": {},
   "outputs": [],
   "source": [
    "letters.reverse()"
   ]
  },
  {
   "cell_type": "code",
   "execution_count": 22,
   "id": "0e6f7ed3",
   "metadata": {},
   "outputs": [
    {
     "name": "stdout",
     "output_type": "stream",
     "text": [
      "['d', 'i', 'o', 'e', 'h', 'p', 'n', 'a']\n"
     ]
    }
   ],
   "source": [
    "print(letters)"
   ]
  },
  {
   "cell_type": "code",
   "execution_count": null,
   "id": "735fe44c",
   "metadata": {},
   "outputs": [],
   "source": [
    "SLICING THE LIST"
   ]
  },
  {
   "cell_type": "code",
   "execution_count": null,
   "id": "adfd1f59",
   "metadata": {},
   "outputs": [],
   "source": [
    "syntax:start value:stop value:step count\n",
    "            "
   ]
  },
  {
   "cell_type": "code",
   "execution_count": 16,
   "id": "b94bb6ce",
   "metadata": {},
   "outputs": [
    {
     "name": "stdout",
     "output_type": "stream",
     "text": [
      "['a']\n"
     ]
    }
   ],
   "source": [
    "#if we want to get any elements in the list seperately we use slicing method\n",
    "print(letters[0:1])"
   ]
  },
  {
   "cell_type": "code",
   "execution_count": null,
   "id": "9acb116b",
   "metadata": {},
   "outputs": [],
   "source": [
    "#in the above output we didn't get 1st index position element because stop value is always elclusive.we can get it by increasing the stop value by 1"
   ]
  },
  {
   "cell_type": "code",
   "execution_count": 17,
   "id": "b077f722",
   "metadata": {},
   "outputs": [
    {
     "name": "stdout",
     "output_type": "stream",
     "text": [
      "['a', 'n']\n"
     ]
    }
   ],
   "source": [
    "print(letters[0:2])"
   ]
  },
  {
   "cell_type": "code",
   "execution_count": 18,
   "id": "aff11878",
   "metadata": {},
   "outputs": [
    {
     "name": "stdout",
     "output_type": "stream",
     "text": [
      "['h', 'e', 'o']\n"
     ]
    }
   ],
   "source": [
    "print(letters[3:6])"
   ]
  },
  {
   "cell_type": "code",
   "execution_count": null,
   "id": "bb28662a",
   "metadata": {},
   "outputs": [],
   "source": [
    "#step count is used to get alternative values"
   ]
  },
  {
   "cell_type": "code",
   "execution_count": 19,
   "id": "bf60718e",
   "metadata": {},
   "outputs": [
    {
     "name": "stdout",
     "output_type": "stream",
     "text": [
      "['a', 'p', 'e', 'i']\n"
     ]
    }
   ],
   "source": [
    "print(letters[0:8:2])"
   ]
  },
  {
   "cell_type": "code",
   "execution_count": 20,
   "id": "a946b4b0",
   "metadata": {},
   "outputs": [
    {
     "name": "stdout",
     "output_type": "stream",
     "text": [
      "['a', 'e']\n"
     ]
    }
   ],
   "source": [
    "print(letters[0:8:4])"
   ]
  },
  {
   "cell_type": "code",
   "execution_count": null,
   "id": "34c31097",
   "metadata": {},
   "outputs": [],
   "source": []
  }
 ],
 "metadata": {
  "kernelspec": {
   "display_name": "Python 3 (ipykernel)",
   "language": "python",
   "name": "python3"
  },
  "language_info": {
   "codemirror_mode": {
    "name": "ipython",
    "version": 3
   },
   "file_extension": ".py",
   "mimetype": "text/x-python",
   "name": "python",
   "nbconvert_exporter": "python",
   "pygments_lexer": "ipython3",
   "version": "3.9.7"
  }
 },
 "nbformat": 4,
 "nbformat_minor": 5
}
