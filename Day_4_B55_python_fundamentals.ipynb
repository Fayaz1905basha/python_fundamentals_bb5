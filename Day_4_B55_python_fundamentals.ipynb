{
 "cells": [
  {
   "cell_type": "code",
   "execution_count": null,
   "id": "a179a1dc",
   "metadata": {},
   "outputs": [],
   "source": [
    "LIST DATA TYPE: #collection of items declared in a particular order(MUTABLE)"
   ]
  },
  {
   "cell_type": "code",
   "execution_count": 2,
   "id": "c10bd66b",
   "metadata": {},
   "outputs": [
    {
     "name": "stdout",
     "output_type": "stream",
     "text": [
      "['x', 'y', 'z', 'a', 'b', 'c', 'd']\n"
     ]
    }
   ],
   "source": [
    "students=['x','y','z','a','b','c','d']\n",
    "print(students)"
   ]
  },
  {
   "cell_type": "code",
   "execution_count": 3,
   "id": "9ad41341",
   "metadata": {},
   "outputs": [
    {
     "data": {
      "text/plain": [
       "list"
      ]
     },
     "execution_count": 3,
     "metadata": {},
     "output_type": "execute_result"
    }
   ],
   "source": [
    "type(students)"
   ]
  },
  {
   "cell_type": "code",
   "execution_count": null,
   "id": "d3f527e2",
   "metadata": {},
   "outputs": [],
   "source": [
    "INDEXING:#shows the position of elements in the list"
   ]
  },
  {
   "cell_type": "code",
   "execution_count": 4,
   "id": "8d2f471c",
   "metadata": {},
   "outputs": [
    {
     "name": "stdout",
     "output_type": "stream",
     "text": [
      "a\n"
     ]
    }
   ],
   "source": [
    "print(students[3])#prints the 3rd position element in the list "
   ]
  },
  {
   "cell_type": "code",
   "execution_count": 5,
   "id": "377d9fe8",
   "metadata": {},
   "outputs": [
    {
     "name": "stdout",
     "output_type": "stream",
     "text": [
      "c\n"
     ]
    }
   ],
   "source": [
    "print(students[5])"
   ]
  },
  {
   "cell_type": "code",
   "execution_count": null,
   "id": "14a62886",
   "metadata": {},
   "outputs": [],
   "source": [
    "#adding new element to the list"
   ]
  },
  {
   "cell_type": "code",
   "execution_count": 6,
   "id": "6a116bf8",
   "metadata": {},
   "outputs": [],
   "source": [
    "students.append('m')#append command used to insert element last position in the list "
   ]
  },
  {
   "cell_type": "code",
   "execution_count": 7,
   "id": "227e0180",
   "metadata": {},
   "outputs": [
    {
     "name": "stdout",
     "output_type": "stream",
     "text": [
      "['x', 'y', 'z', 'a', 'b', 'c', 'd', 'm']\n"
     ]
    }
   ],
   "source": [
    "print(students)"
   ]
  },
  {
   "cell_type": "code",
   "execution_count": null,
   "id": "2dd5a8dd",
   "metadata": {},
   "outputs": [],
   "source": [
    "#we can insert a element in any position in the list by using insert command"
   ]
  },
  {
   "cell_type": "code",
   "execution_count": 8,
   "id": "f2b30e14",
   "metadata": {},
   "outputs": [],
   "source": [
    "students.insert(2,'n')#here n element is inserted in second index position in the list"
   ]
  },
  {
   "cell_type": "code",
   "execution_count": 9,
   "id": "394d8a6e",
   "metadata": {},
   "outputs": [
    {
     "name": "stdout",
     "output_type": "stream",
     "text": [
      "['x', 'y', 'n', 'z', 'a', 'b', 'c', 'd', 'm']\n"
     ]
    }
   ],
   "source": [
    "print(students)"
   ]
  },
  {
   "cell_type": "code",
   "execution_count": 10,
   "id": "59742e4e",
   "metadata": {},
   "outputs": [],
   "source": [
    "students[3]='p'#here p is added to 3rd index position of the list"
   ]
  },
  {
   "cell_type": "code",
   "execution_count": 11,
   "id": "b7f93063",
   "metadata": {},
   "outputs": [
    {
     "name": "stdout",
     "output_type": "stream",
     "text": [
      "['x', 'y', 'n', 'p', 'a', 'b', 'c', 'd', 'm']\n"
     ]
    }
   ],
   "source": [
    "print(students)"
   ]
  },
  {
   "cell_type": "code",
   "execution_count": 12,
   "id": "c7f2c465",
   "metadata": {},
   "outputs": [],
   "source": [
    "del students[6]#we can delete 6th index position element in the list"
   ]
  },
  {
   "cell_type": "code",
   "execution_count": 13,
   "id": "dca7cdb2",
   "metadata": {},
   "outputs": [
    {
     "name": "stdout",
     "output_type": "stream",
     "text": [
      "['x', 'y', 'n', 'p', 'a', 'b', 'd', 'm']\n"
     ]
    }
   ],
   "source": [
    "print(students)"
   ]
  },
  {
   "cell_type": "code",
   "execution_count": null,
   "id": "9122112f",
   "metadata": {},
   "outputs": [],
   "source": []
  },
  {
   "cell_type": "code",
   "execution_count": null,
   "id": "98c72830",
   "metadata": {},
   "outputs": [],
   "source": []
  },
  {
   "cell_type": "code",
   "execution_count": null,
   "id": "14858a7b",
   "metadata": {},
   "outputs": [],
   "source": []
  },
  {
   "cell_type": "code",
   "execution_count": null,
   "id": "a6e99100",
   "metadata": {},
   "outputs": [],
   "source": []
  }
 ],
 "metadata": {
  "kernelspec": {
   "display_name": "Python 3 (ipykernel)",
   "language": "python",
   "name": "python3"
  },
  "language_info": {
   "codemirror_mode": {
    "name": "ipython",
    "version": 3
   },
   "file_extension": ".py",
   "mimetype": "text/x-python",
   "name": "python",
   "nbconvert_exporter": "python",
   "pygments_lexer": "ipython3",
   "version": "3.9.7"
  }
 },
 "nbformat": 4,
 "nbformat_minor": 5
}
